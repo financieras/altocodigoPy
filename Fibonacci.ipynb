{
  "nbformat": 4,
  "nbformat_minor": 0,
  "metadata": {
    "colab": {
      "name": "Fibonacci.ipynb",
      "provenance": [],
      "authorship_tag": "ABX9TyPA5g60bHUV9lywxpthlzC/",
      "include_colab_link": true
    },
    "kernelspec": {
      "name": "python3",
      "display_name": "Python 3"
    },
    "language_info": {
      "name": "python"
    }
  },
  "cells": [
    {
      "cell_type": "markdown",
      "metadata": {
        "id": "view-in-github",
        "colab_type": "text"
      },
      "source": [
        "<a href=\"https://colab.research.google.com/github/financieras/altocodigo/blob/main/Fibonacci.ipynb\" target=\"_parent\"><img src=\"https://colab.research.google.com/assets/colab-badge.svg\" alt=\"Open In Colab\"/></a>"
      ]
    },
    {
      "cell_type": "markdown",
      "source": [
        "# Fibonacci"
      ],
      "metadata": {
        "id": "TFJdJWFFtjoy"
      }
    },
    {
      "cell_type": "markdown",
      "source": [
        "## Método 1"
      ],
      "metadata": {
        "id": "eR85A98btpad"
      }
    },
    {
      "cell_type": "code",
      "source": [
        "n=max(int(input('¿Cuántos valores quieres? (minimo 5): ')), 5)\n",
        "old = 0\n",
        "x = 1\n",
        "print(old)\n",
        "print(x)\n",
        "for i in range(0,n-2):\n",
        "  y = x + old\n",
        "  print(y)\n",
        "  old = x\n",
        "  x = y"
      ],
      "metadata": {
        "colab": {
          "base_uri": "https://localhost:8080/"
        },
        "id": "DnIKPyCKtsT3",
        "outputId": "621bdc73-75eb-4f43-c6c8-f1a8f3e83cda"
      },
      "execution_count": 2,
      "outputs": [
        {
          "output_type": "stream",
          "name": "stdout",
          "text": [
            "¿Cuántos valores quieres? (minimo 5): 12\n",
            "0\n",
            "1\n",
            "1\n",
            "2\n",
            "3\n",
            "5\n",
            "8\n",
            "13\n",
            "21\n",
            "34\n",
            "55\n",
            "89\n"
          ]
        }
      ]
    },
    {
      "cell_type": "markdown",
      "source": [
        "## Método 2"
      ],
      "metadata": {
        "id": "FW2eWvIKuE9T"
      }
    },
    {
      "cell_type": "code",
      "source": [
        "while True:\n",
        "  n=int(input('¿Cuántos valores quieres? (mínimo 3): '))\n",
        "  if n > 2:\n",
        "    break\n",
        "x = [0,1]\n",
        "for i in range(n-2):\n",
        "  x.append(x[-1] + x[-2])\n",
        "print(x)"
      ],
      "metadata": {
        "colab": {
          "base_uri": "https://localhost:8080/"
        },
        "id": "6xsXX2XjuIxu",
        "outputId": "4f2aaace-b566-4b0c-baef-109ccbf1a9d3"
      },
      "execution_count": 6,
      "outputs": [
        {
          "output_type": "stream",
          "name": "stdout",
          "text": [
            "¿Cuántos valores quieres? (mínimo 3): 20\n",
            "[0, 1, 1, 2, 3, 5, 8, 13, 21, 34, 55, 89, 144, 233, 377, 610, 987, 1597, 2584, 4181]\n"
          ]
        }
      ]
    },
    {
      "cell_type": "markdown",
      "source": [
        "## Método 3"
      ],
      "metadata": {
        "id": "xElJwEHNudjP"
      }
    },
    {
      "cell_type": "code",
      "source": [
        "lista = [0, 1]\n",
        "for i in range(3, 21):\n",
        "  lista.append(lista[len(lista)-1] + lista[len(lista)-2])\n",
        "print(lista)"
      ],
      "metadata": {
        "colab": {
          "base_uri": "https://localhost:8080/"
        },
        "id": "94rOkKrdugnm",
        "outputId": "29cfe966-521a-4605-ac0c-8aae3463903a"
      },
      "execution_count": 5,
      "outputs": [
        {
          "output_type": "stream",
          "name": "stdout",
          "text": [
            "[0, 1, 1, 2, 3, 5, 8, 13, 21, 34, 55, 89, 144, 233, 377, 610, 987, 1597, 2584, 4181]\n"
          ]
        }
      ]
    },
    {
      "cell_type": "markdown",
      "source": [
        "## Método 4"
      ],
      "metadata": {
        "id": "FXouW5a1uv8w"
      }
    },
    {
      "cell_type": "code",
      "source": [
        "def fibo(n):\n",
        "  a = 0\n",
        "  b = 1\n",
        "  for i in range(3, n+1):\n",
        "    c = a+b\n",
        "    a = b\n",
        "    b = c\n",
        "  return(c)\n",
        "print(fibo(100))"
      ],
      "metadata": {
        "colab": {
          "base_uri": "https://localhost:8080/"
        },
        "id": "3Snrb-gGuyJK",
        "outputId": "6347be0d-9342-428f-865d-eea516f241bc"
      },
      "execution_count": 9,
      "outputs": [
        {
          "output_type": "stream",
          "name": "stdout",
          "text": [
            "218922995834555169026\n"
          ]
        }
      ]
    },
    {
      "cell_type": "markdown",
      "source": [
        "## Método 5"
      ],
      "metadata": {
        "id": "FKI849wOvDaO"
      }
    },
    {
      "cell_type": "code",
      "source": [
        "n = 20    # número de términos de la serie\n",
        "fibo = [0, 1]\n",
        "for i in range (n-2):\n",
        "  fibo.append(fibo[-1] + fibo[-2])\n",
        "print(fibo)"
      ],
      "metadata": {
        "colab": {
          "base_uri": "https://localhost:8080/"
        },
        "id": "mcJF6ASMvGeT",
        "outputId": "e38632ca-bfc4-4ee8-972d-8d024eebf97d"
      },
      "execution_count": 24,
      "outputs": [
        {
          "output_type": "stream",
          "name": "stdout",
          "text": [
            "[0, 1, 1, 2, 3, 5, 8, 13, 21, 34, 55, 89, 144, 233, 377, 610, 987, 1597, 2584, 4181]\n"
          ]
        }
      ]
    },
    {
      "cell_type": "markdown",
      "source": [
        "## Método 6"
      ],
      "metadata": {
        "id": "YTV1NNxEwbEr"
      }
    },
    {
      "cell_type": "code",
      "source": [
        "def fibo(n):\n",
        "  a, b = 0, 1\n",
        "  for i in range(n):\n",
        "    print(a, end=' ')\n",
        "    a, b = b, a+b\n",
        "  print()\n",
        "fibo(20)"
      ],
      "metadata": {
        "colab": {
          "base_uri": "https://localhost:8080/"
        },
        "id": "cEjflIj7wdnS",
        "outputId": "3cf430ef-926a-4e6a-fe3f-7f000040e5aa"
      },
      "execution_count": 25,
      "outputs": [
        {
          "output_type": "stream",
          "name": "stdout",
          "text": [
            "0 1 1 2 3 5 8 13 21 34 55 89 144 233 377 610 987 1597 2584 4181 \n"
          ]
        }
      ]
    },
    {
      "cell_type": "markdown",
      "source": [
        "## Método 7"
      ],
      "metadata": {
        "id": "aDa6ho03xFQQ"
      }
    },
    {
      "cell_type": "code",
      "source": [
        "n = 20\n",
        "a, b = 0, 1\n",
        "print(\"1:\", a)\n",
        "print(\"2:\", b)\n",
        "\n",
        "for i in range(3, n+1):\n",
        "    b = a + b\n",
        "    a = b - a  # así evitamos emplear una variable auxiliar\n",
        "    print(f\"{i}: {b}\")"
      ],
      "metadata": {
        "colab": {
          "base_uri": "https://localhost:8080/"
        },
        "id": "PrPfVbCOxJT0",
        "outputId": "01e20c6d-2377-4ff6-c75f-d28510055950"
      },
      "execution_count": 28,
      "outputs": [
        {
          "output_type": "stream",
          "name": "stdout",
          "text": [
            "1: 0\n",
            "2: 1\n",
            "3: 1\n",
            "4: 2\n",
            "5: 3\n",
            "6: 5\n",
            "7: 8\n",
            "8: 13\n",
            "9: 21\n",
            "10: 34\n",
            "11: 55\n",
            "12: 89\n",
            "13: 144\n",
            "14: 233\n",
            "15: 377\n",
            "16: 610\n",
            "17: 987\n",
            "18: 1597\n",
            "19: 2584\n",
            "20: 4181\n"
          ]
        }
      ]
    }
  ]
}